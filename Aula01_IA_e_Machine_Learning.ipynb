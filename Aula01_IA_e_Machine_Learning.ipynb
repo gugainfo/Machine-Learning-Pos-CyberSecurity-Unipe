{
  "nbformat": 4,
  "nbformat_minor": 0,
  "metadata": {
    "colab": {
      "name": "Aula101 -IA e Machine Learning.ipynb",
      "provenance": [],
      "authorship_tag": "ABX9TyM4zpDn4u5Wx5TijwxYRHF6",
      "include_colab_link": true
    },
    "kernelspec": {
      "name": "python3",
      "display_name": "Python 3"
    },
    "language_info": {
      "name": "python"
    }
  },
  "cells": [
    {
      "cell_type": "markdown",
      "metadata": {
        "id": "view-in-github",
        "colab_type": "text"
      },
      "source": [
        "<a href=\"https://colab.research.google.com/github/gugainfo/Machine-Learning-Pos-CyberSecurity-Unipe/blob/main/Aula01_IA_e_Machine_Learning.ipynb\" target=\"_parent\"><img src=\"https://colab.research.google.com/assets/colab-badge.svg\" alt=\"Open In Colab\"/></a>"
      ]
    },
    {
      "cell_type": "code",
      "execution_count": 4,
      "metadata": {
        "colab": {
          "base_uri": "https://localhost:8080/"
        },
        "id": "Lu3y1PVfBnYs",
        "outputId": "6c15e408-0182-4025-cc6c-1c1f6369217e"
      },
      "outputs": [
        {
          "output_type": "stream",
          "name": "stdout",
          "text": [
            "O Resultado é: 50\n"
          ]
        }
      ],
      "source": [
        "# Author: Gustavo Aragão\n",
        "# Data Cience First Steps\n",
        "\n",
        "a = 10\n",
        "b = 40\n",
        "c = (a + b)\n",
        "print('O Resultado é:', c)\n",
        "\n"
      ]
    },
    {
      "cell_type": "code",
      "source": [
        ""
      ],
      "metadata": {
        "id": "IHWe2_stCmua"
      },
      "execution_count": null,
      "outputs": []
    }
  ]
}